{
 "cells": [
  {
   "cell_type": "code",
   "execution_count": 1,
   "id": "b6c67c5d",
   "metadata": {},
   "outputs": [],
   "source": [
    "from pyspark.sql import SparkSession"
   ]
  },
  {
   "cell_type": "code",
   "execution_count": 2,
   "id": "e6424f89",
   "metadata": {},
   "outputs": [],
   "source": [
    "from pyspark.sql.functions import col, desc"
   ]
  },
  {
   "cell_type": "code",
   "execution_count": 3,
   "id": "25eca040",
   "metadata": {},
   "outputs": [],
   "source": [
    "spark = SparkSession.builder.appName('df').getOrCreate()"
   ]
  },
  {
   "cell_type": "code",
   "execution_count": 4,
   "id": "6062768e",
   "metadata": {},
   "outputs": [
    {
     "name": "stdout",
     "output_type": "stream",
     "text": [
      "3.4.1\n"
     ]
    }
   ],
   "source": [
    "print(spark.version) "
   ]
  },
  {
   "cell_type": "markdown",
   "id": "4ee4db5b",
   "metadata": {},
   "source": [
    "# Read CSV file from spark "
   ]
  },
  {
   "cell_type": "code",
   "execution_count": 6,
   "id": "b473e182",
   "metadata": {},
   "outputs": [],
   "source": [
    "data = spark.read.format('csv').\\\n",
    "option ('inferSchema','true').\\\n",
    "option ('header','true').\\\n",
    "option ('path','C:/Users/dell/Downloads/assignment_2.csv').\\\n",
    "load()"
   ]
  },
  {
   "cell_type": "code",
   "execution_count": 8,
   "id": "d802254b",
   "metadata": {},
   "outputs": [
    {
     "name": "stdout",
     "output_type": "stream",
     "text": [
      "root\n",
      " |-- ip_address: string (nullable = true)\n",
      " |-- Country: string (nullable = true)\n",
      " |-- Domain Name: string (nullable = true)\n",
      " |-- Bytes_used: integer (nullable = true)\n",
      "\n"
     ]
    }
   ],
   "source": [
    "data.printSchema()"
   ]
  },
  {
   "cell_type": "code",
   "execution_count": 9,
   "id": "e2ecda17",
   "metadata": {},
   "outputs": [
    {
     "name": "stdout",
     "output_type": "stream",
     "text": [
      "DataFrame[ip_address: string, Country: string, Domain Name: string, Bytes_used: int]\n"
     ]
    }
   ],
   "source": [
    "print(data)"
   ]
  },
  {
   "cell_type": "code",
   "execution_count": 12,
   "id": "62cdba7f",
   "metadata": {},
   "outputs": [
    {
     "name": "stdout",
     "output_type": "stream",
     "text": [
      "+--------------+\n",
      "|       Country|\n",
      "+--------------+\n",
      "|         China|\n",
      "|         China|\n",
      "|         China|\n",
      "|      Bulgaria|\n",
      "|     Indonesia|\n",
      "|      Suriname|\n",
      "|       Jamaica|\n",
      "|         China|\n",
      "|Czech Republic|\n",
      "|         China|\n",
      "|         Japan|\n",
      "|       Belgium|\n",
      "|   Afghanistan|\n",
      "|     Indonesia|\n",
      "|Czech Republic|\n",
      "|     Indonesia|\n",
      "|        Mexico|\n",
      "|       Croatia|\n",
      "|      Thailand|\n",
      "|      Thailand|\n",
      "+--------------+\n",
      "only showing top 20 rows\n",
      "\n"
     ]
    }
   ],
   "source": [
    "data.select(\"Country\").show()"
   ]
  },
  {
   "cell_type": "raw",
   "id": "f95f9563",
   "metadata": {},
   "source": [
    "1. add column to say 'Yes' or 'NO' whether the country is mexico"
   ]
  },
  {
   "cell_type": "code",
   "execution_count": 16,
   "id": "c557e238",
   "metadata": {},
   "outputs": [],
   "source": [
    "from pyspark.sql.functions import *"
   ]
  },
  {
   "cell_type": "code",
   "execution_count": 17,
   "id": "758cfb5f",
   "metadata": {},
   "outputs": [],
   "source": [
    "df = data.withColumn(\"Country\", when(data.Country == \"Mexico\", \"Yes\").otherwise(\"No\"))"
   ]
  },
  {
   "cell_type": "code",
   "execution_count": 18,
   "id": "72f55891",
   "metadata": {},
   "outputs": [
    {
     "name": "stdout",
     "output_type": "stream",
     "text": [
      "+---------------+-------+-----------------+----------+\n",
      "|     ip_address|Country|      Domain Name|Bytes_used|\n",
      "+---------------+-------+-----------------+----------+\n",
      "|  52.81.192.172|     No| odnoklassniki.ru|       463|\n",
      "| 119.239.207.13|     No|         youtu.be|        51|\n",
      "|  68.69.217.210|     No|        adobe.com|        10|\n",
      "|   7.191.21.223|     No|     linkedin.com|       853|\n",
      "|   211.13.10.68|     No|          hud.gov|        29|\n",
      "|   239.80.21.97|     No|       smh.com.au|       218|\n",
      "|106.214.106.233|     No|    amazonaws.com|        95|\n",
      "| 127.242.24.138|     No| surveymonkey.com|       123|\n",
      "|     99.2.6.139|     No|     geocities.jp|       322|\n",
      "|   237.54.11.63|     No|       amazon.com|        83|\n",
      "| 252.141.157.25|     No|      cornell.edu|       374|\n",
      "|185.220.128.248|     No|       weebly.com|       389|\n",
      "|   151.77.19.45|     No|independent.co.uk|       282|\n",
      "|  9.161.158.225|     No|    bloglines.com|       726|\n",
      "| 156.144.61.155|     No|   slideshare.net|       657|\n",
      "|   8.96.188.151|     No|          ibm.com|       517|\n",
      "|      5.72.7.65|    Yes|         youtu.be|       877|\n",
      "|227.110.112.144|     No|         ehow.com|       287|\n",
      "|    81.71.28.97|     No|          last.fm|       588|\n",
      "|  9.255.129.184|     No|          mtv.com|       114|\n",
      "+---------------+-------+-----------------+----------+\n",
      "only showing top 20 rows\n",
      "\n"
     ]
    }
   ],
   "source": [
    "df.show()"
   ]
  },
  {
   "cell_type": "raw",
   "id": "46781f2f",
   "metadata": {},
   "source": [
    "2. Group by your new column and sum \"bytes_used\""
   ]
  },
  {
   "cell_type": "code",
   "execution_count": 25,
   "id": "b11db04a",
   "metadata": {},
   "outputs": [],
   "source": [
    "df_2 = df.groupBy(\"Country\").agg(sum(\"bytes_used\"))"
   ]
  },
  {
   "cell_type": "code",
   "execution_count": 26,
   "id": "8eca0bc8",
   "metadata": {},
   "outputs": [
    {
     "name": "stdout",
     "output_type": "stream",
     "text": [
      "+-------+---------------+\n",
      "|Country|sum(bytes_used)|\n",
      "+-------+---------------+\n",
      "|     No|         508076|\n",
      "|    Yes|           6293|\n",
      "+-------+---------------+\n",
      "\n"
     ]
    }
   ],
   "source": [
    "df_2.show()"
   ]
  },
  {
   "cell_type": "raw",
   "id": "4e5042d9",
   "metadata": {},
   "source": [
    "3. Group by country and use .countDistinct function to calculate number of ip addresses in each country.\n",
    "\n",
    "sort the column in descending order of number of ip address\n"
   ]
  },
  {
   "cell_type": "code",
   "execution_count": 35,
   "id": "7ed78b6d",
   "metadata": {},
   "outputs": [
    {
     "name": "stdout",
     "output_type": "stream",
     "text": [
      "+-------+-----------------+\n",
      "|Country|count(ip_address)|\n",
      "+-------+-----------------+\n",
      "|     No|              987|\n",
      "|    Yes|               13|\n",
      "+-------+-----------------+\n",
      "\n"
     ]
    }
   ],
   "source": [
    "df_3 = df.groupBy(\"Country\").agg(countDistinct(\"ip_address\"))\n",
    "df_3.show()"
   ]
  },
  {
   "cell_type": "code",
   "execution_count": 39,
   "id": "8d3d8a25",
   "metadata": {},
   "outputs": [
    {
     "name": "stdout",
     "output_type": "stream",
     "text": [
      "+-------+-----------------+\n",
      "|Country|count(ip_address)|\n",
      "+-------+-----------------+\n",
      "|     No|              987|\n",
      "|    Yes|               13|\n",
      "+-------+-----------------+\n",
      "\n"
     ]
    }
   ],
   "source": [
    "from pyspark.sql.functions import desc\n",
    "df_3.orderBy(desc(\"count(ip_address)\")).show()"
   ]
  },
  {
   "cell_type": "code",
   "execution_count": null,
   "id": "c35747a3",
   "metadata": {},
   "outputs": [],
   "source": []
  }
 ],
 "metadata": {
  "kernelspec": {
   "display_name": "Python 3 (ipykernel)",
   "language": "python",
   "name": "python3"
  },
  "language_info": {
   "codemirror_mode": {
    "name": "ipython",
    "version": 3
   },
   "file_extension": ".py",
   "mimetype": "text/x-python",
   "name": "python",
   "nbconvert_exporter": "python",
   "pygments_lexer": "ipython3",
   "version": "3.10.9"
  }
 },
 "nbformat": 4,
 "nbformat_minor": 5
}
