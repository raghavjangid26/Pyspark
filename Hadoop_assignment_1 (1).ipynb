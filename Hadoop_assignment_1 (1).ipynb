{
 "cells": [
  {
   "cell_type": "code",
   "execution_count": 1,
   "id": "797339ed",
   "metadata": {},
   "outputs": [],
   "source": [
    "from pyspark.sql import SparkSession"
   ]
  },
  {
   "cell_type": "code",
   "execution_count": 2,
   "id": "91f7025e",
   "metadata": {},
   "outputs": [],
   "source": [
    "from pyspark.sql.functions import col, desc"
   ]
  },
  {
   "cell_type": "code",
   "execution_count": 3,
   "id": "a454c38f",
   "metadata": {},
   "outputs": [],
   "source": [
    "spark = SparkSession.builder.appName('df').getOrCreate()"
   ]
  },
  {
   "cell_type": "code",
   "execution_count": 4,
   "id": "32abca95",
   "metadata": {},
   "outputs": [
    {
     "name": "stdout",
     "output_type": "stream",
     "text": [
      "3.4.1\n"
     ]
    }
   ],
   "source": [
    "print(spark.version) "
   ]
  },
  {
   "cell_type": "markdown",
   "id": "9afe3824",
   "metadata": {},
   "source": [
    "Question 1: Filtering and Selecting Data Write PySpark code to perform the following tasks:\n",
    "1. Create a PySpark DataFrame named df using the provided dataset and schema.\n",
    "2. Filter the DataFrame to select only the rows where age is greater than or equal to 25.\n",
    "3. Select only the \"name\" and \"age\" columns from the filtered DataFrame.\n",
    "4. Display the resulting DataFrame."
   ]
  },
  {
   "cell_type": "code",
   "execution_count": 5,
   "id": "5407bd66",
   "metadata": {},
   "outputs": [],
   "source": [
    "df = spark.read.format('csv').\\\n",
    "option ('inferSchema','true').\\\n",
    "option ('header','true').\\\n",
    "option ('path','C:/Users/dell/Downloads/DataFrame.csv').\\\n",
    "load()"
   ]
  },
  {
   "cell_type": "code",
   "execution_count": 6,
   "id": "b6cd02db",
   "metadata": {},
   "outputs": [
    {
     "name": "stdout",
     "output_type": "stream",
     "text": [
      "root\n",
      " |-- S.No.: integer (nullable = true)\n",
      " |-- Name: string (nullable = true)\n",
      " |-- Age: integer (nullable = true)\n",
      " |-- Occupation: string (nullable = true)\n",
      " |-- Education: string (nullable = true)\n",
      "\n"
     ]
    }
   ],
   "source": [
    "df.printSchema()"
   ]
  },
  {
   "cell_type": "code",
   "execution_count": 7,
   "id": "7c072710",
   "metadata": {},
   "outputs": [
    {
     "name": "stdout",
     "output_type": "stream",
     "text": [
      "+-----+------+---+--------------+----------------+\n",
      "|S.No.|  Name|Age|    Occupation|       Education|\n",
      "+-----+------+---+--------------+----------------+\n",
      "|    1|Raghav| 21|       Student|              UG|\n",
      "|    2| Varun| 22|       Student|              UG|\n",
      "|    3| Kunal| 26|       Student|              PG|\n",
      "|    4| Virat| 34|     Cricketer|Higher Education|\n",
      "|    5|   Ram| 30|Data Scientist|       Graduated|\n",
      "|    6| Bunny| 25|        Doctor|            MBBS|\n",
      "+-----+------+---+--------------+----------------+\n",
      "\n"
     ]
    }
   ],
   "source": [
    "df.show()"
   ]
  },
  {
   "cell_type": "code",
   "execution_count": 8,
   "id": "3cfb0a8d",
   "metadata": {},
   "outputs": [
    {
     "name": "stdout",
     "output_type": "stream",
     "text": [
      "+-----+---+\n",
      "| Name|Age|\n",
      "+-----+---+\n",
      "|Kunal| 26|\n",
      "|Virat| 34|\n",
      "|  Ram| 30|\n",
      "|Bunny| 25|\n",
      "+-----+---+\n",
      "\n"
     ]
    }
   ],
   "source": [
    "data_1 = df.filter(df['Age'] >= 25).select(['Name', 'Age']).show()"
   ]
  },
  {
   "cell_type": "markdown",
   "id": "694a326d",
   "metadata": {},
   "source": [
    "Question 2: Aggregating Data Write PySpark code to perform the following tasks:\n",
    "1. Calculate the average age of all the individuals in the DataFrame.\n",
    "2. Calculate the maximum age in the DataFrame.\n",
    "3. Calculate the minimum age in the DataFrame.\n",
    "4. Display these aggregate results."
   ]
  },
  {
   "cell_type": "code",
   "execution_count": 9,
   "id": "9d95f122",
   "metadata": {},
   "outputs": [],
   "source": [
    "data_2 = df.agg({'Age':'Avg'})"
   ]
  },
  {
   "cell_type": "code",
   "execution_count": 10,
   "id": "e5adf6fe",
   "metadata": {},
   "outputs": [
    {
     "name": "stdout",
     "output_type": "stream",
     "text": [
      "+------------------+\n",
      "|          avg(Age)|\n",
      "+------------------+\n",
      "|26.333333333333332|\n",
      "+------------------+\n",
      "\n"
     ]
    }
   ],
   "source": [
    "data_2.show()"
   ]
  },
  {
   "cell_type": "code",
   "execution_count": 14,
   "id": "8ee8650a",
   "metadata": {},
   "outputs": [
    {
     "name": "stdout",
     "output_type": "stream",
     "text": [
      "+--------+\n",
      "|max(Age)|\n",
      "+--------+\n",
      "|      34|\n",
      "+--------+\n",
      "\n"
     ]
    }
   ],
   "source": [
    "data_3 = df.agg({'Age':'Max'})\n",
    "data_3.show()"
   ]
  },
  {
   "cell_type": "code",
   "execution_count": 17,
   "id": "0f769a00",
   "metadata": {},
   "outputs": [
    {
     "name": "stdout",
     "output_type": "stream",
     "text": [
      "+--------+\n",
      "|min(Age)|\n",
      "+--------+\n",
      "|      21|\n",
      "+--------+\n",
      "\n"
     ]
    }
   ],
   "source": [
    "data_4 = df.agg({'Age':'Min'})\n",
    "data_4.show()"
   ]
  },
  {
   "cell_type": "code",
   "execution_count": 18,
   "id": "342fb778",
   "metadata": {},
   "outputs": [
    {
     "name": "stdout",
     "output_type": "stream",
     "text": [
      "+------------------+\n",
      "|          avg(Age)|\n",
      "+------------------+\n",
      "|26.333333333333332|\n",
      "+------------------+\n",
      "\n",
      "+--------+\n",
      "|max(Age)|\n",
      "+--------+\n",
      "|      34|\n",
      "+--------+\n",
      "\n",
      "+--------+\n",
      "|min(Age)|\n",
      "+--------+\n",
      "|      21|\n",
      "+--------+\n",
      "\n"
     ]
    }
   ],
   "source": [
    "data_2.show() ; data_3.show() ; data_4.show()"
   ]
  },
  {
   "cell_type": "markdown",
   "id": "eaeb7f38",
   "metadata": {},
   "source": [
    "Question 3: Grouping and Aggregating Data Write PySpark code to perform the following tasks:\n",
    "1. Create a new DataFrame by adding a \"department\" column to the existing DataFrame with values \"HR\" for id 1 and 2, and \"IT\" for the rest.\n",
    "2. Group the new DataFrame by the \"department\" column.\n",
    "3. Calculate the average age for each department.\n",
    "4. Display the resulting DataFrame with department and its corresponding average age."
   ]
  },
  {
   "cell_type": "code",
   "execution_count": 20,
   "id": "acac007c",
   "metadata": {},
   "outputs": [],
   "source": [
    "df2 = spark.read.format('csv').\\\n",
    "option ('inferSchema','true').\\\n",
    "option ('header','true').\\\n",
    "option ('path','C:/Users/dell/Downloads/DataFrame_New.csv').\\\n",
    "load()"
   ]
  },
  {
   "cell_type": "code",
   "execution_count": 21,
   "id": "2b18f561",
   "metadata": {},
   "outputs": [
    {
     "name": "stdout",
     "output_type": "stream",
     "text": [
      "+-----+------+---+--------------+----------------+------------+\n",
      "|S.No.|  Name|Age|    Occupation|       Education|  Department|\n",
      "+-----+------+---+--------------+----------------+------------+\n",
      "|    1|Raghav| 21|       Student|              UG|          TL|\n",
      "|    2| Varun| 22|       Student|              UG|          IT|\n",
      "|    3| Kunal| 26|       Student|              PG|          HR|\n",
      "|    4| Virat| 34|     Cricketer|Higher Education|     Manager|\n",
      "|    5|   Ram| 30|Data Scientist|       Graduated|Ass. Manager|\n",
      "|    6| Bunny| 25|        Doctor|            MBBS|          IT|\n",
      "+-----+------+---+--------------+----------------+------------+\n",
      "\n"
     ]
    }
   ],
   "source": [
    "df2.show()"
   ]
  },
  {
   "cell_type": "code",
   "execution_count": 22,
   "id": "55d8ec69",
   "metadata": {},
   "outputs": [
    {
     "name": "stdout",
     "output_type": "stream",
     "text": [
      "+------------+-----+\n",
      "|  Department|count|\n",
      "+------------+-----+\n",
      "|          HR|    1|\n",
      "|          TL|    1|\n",
      "|Ass. Manager|    1|\n",
      "|          IT|    2|\n",
      "|     Manager|    1|\n",
      "+------------+-----+\n",
      "\n"
     ]
    }
   ],
   "source": [
    "df2.groupBy('Department').count().show()"
   ]
  },
  {
   "cell_type": "code",
   "execution_count": 23,
   "id": "7a6b16a4",
   "metadata": {},
   "outputs": [],
   "source": [
    "data_5 = df2.groupBy('Department').mean('Age')"
   ]
  },
  {
   "cell_type": "code",
   "execution_count": 24,
   "id": "3028d9e3",
   "metadata": {},
   "outputs": [
    {
     "name": "stdout",
     "output_type": "stream",
     "text": [
      "+------------+--------+\n",
      "|  Department|avg(Age)|\n",
      "+------------+--------+\n",
      "|          HR|    26.0|\n",
      "|          TL|    21.0|\n",
      "|Ass. Manager|    30.0|\n",
      "|          IT|    23.5|\n",
      "|     Manager|    34.0|\n",
      "+------------+--------+\n",
      "\n"
     ]
    }
   ],
   "source": [
    "data_5.show()"
   ]
  },
  {
   "cell_type": "code",
   "execution_count": null,
   "id": "9e7645cc",
   "metadata": {},
   "outputs": [],
   "source": []
  }
 ],
 "metadata": {
  "kernelspec": {
   "display_name": "Python 3 (ipykernel)",
   "language": "python",
   "name": "python3"
  },
  "language_info": {
   "codemirror_mode": {
    "name": "ipython",
    "version": 3
   },
   "file_extension": ".py",
   "mimetype": "text/x-python",
   "name": "python",
   "nbconvert_exporter": "python",
   "pygments_lexer": "ipython3",
   "version": "3.10.9"
  }
 },
 "nbformat": 4,
 "nbformat_minor": 5
}
