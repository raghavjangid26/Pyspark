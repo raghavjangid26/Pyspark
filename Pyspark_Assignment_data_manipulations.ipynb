{
 "cells": [
  {
   "cell_type": "markdown",
   "id": "6ba66c2a",
   "metadata": {},
   "source": [
    "Create a PySparkDataFrame named `sales_data` with the following columns:\n",
    "- `ProductID` (integer): ID of the product.\n",
    "- `ProductName` (string): Name of the product.\n",
    "- `Category` (string): Category of the product.\n",
    "- `QuantitySold` (integer): Number of units sold.\n",
    "- `PricePerUnit` (double): Price per unit of the product.\n"
   ]
  },
  {
   "cell_type": "code",
   "execution_count": 1,
   "id": "a705a0b7",
   "metadata": {},
   "outputs": [],
   "source": [
    "from pyspark.sql import SparkSession"
   ]
  },
  {
   "cell_type": "code",
   "execution_count": 3,
   "id": "12e4a853",
   "metadata": {},
   "outputs": [],
   "source": [
    "#create a spark session\n",
    "spark = SparkSession.builder.appName(\"SalesData\").getOrCreate()"
   ]
  },
  {
   "cell_type": "code",
   "execution_count": 7,
   "id": "c19642d1",
   "metadata": {},
   "outputs": [],
   "source": [
    "data = spark.read.format('csv').\\\n",
    "option ('inferSchema','true').\\\n",
    "option ('header','true').\\\n",
    "option ('path','C:/Users/dell/Downloads/SalesDataset.csv').\\\n",
    "load()"
   ]
  },
  {
   "cell_type": "code",
   "execution_count": 8,
   "id": "e64fcc95",
   "metadata": {},
   "outputs": [
    {
     "name": "stdout",
     "output_type": "stream",
     "text": [
      "+---------+-----------+---------------+------------+------------+\n",
      "|productID|ProductName|       Category|QuantitySold|PricePerUnit|\n",
      "+---------+-----------+---------------+------------+------------+\n",
      "|        1|  Product_A|    Electronics|         100|         260|\n",
      "|        2|  Product_B|       Clothing|         123|         200|\n",
      "|        3|  Product_C|Home Appliances|          50|          30|\n",
      "|        4|  Product_D|     Stationary|          80|          10|\n",
      "+---------+-----------+---------------+------------+------------+\n",
      "\n"
     ]
    }
   ],
   "source": [
    "data.show()"
   ]
  },
  {
   "cell_type": "markdown",
   "id": "1c532405",
   "metadata": {},
   "source": [
    "1.    Create a new column named `TotalSales` that represents the total sales for each product (quantity sold multiplied by the price per unit)."
   ]
  },
  {
   "cell_type": "code",
   "execution_count": 10,
   "id": "7ceee190",
   "metadata": {},
   "outputs": [],
   "source": [
    "from pyspark.sql.functions import col"
   ]
  },
  {
   "cell_type": "code",
   "execution_count": 12,
   "id": "55a9e0a4",
   "metadata": {},
   "outputs": [],
   "source": [
    "data = data.withColumn(\"TotalSales\", col(\"QuantitySold\")*col(\"PricePerUnit\"))"
   ]
  },
  {
   "cell_type": "code",
   "execution_count": 13,
   "id": "0dc6ee20",
   "metadata": {},
   "outputs": [
    {
     "name": "stdout",
     "output_type": "stream",
     "text": [
      "+---------+-----------+---------------+------------+------------+----------+\n",
      "|productID|ProductName|       Category|QuantitySold|PricePerUnit|TotalSales|\n",
      "+---------+-----------+---------------+------------+------------+----------+\n",
      "|        1|  Product_A|    Electronics|         100|         260|     26000|\n",
      "|        2|  Product_B|       Clothing|         123|         200|     24600|\n",
      "|        3|  Product_C|Home Appliances|          50|          30|      1500|\n",
      "|        4|  Product_D|     Stationary|          80|          10|       800|\n",
      "+---------+-----------+---------------+------------+------------+----------+\n",
      "\n"
     ]
    }
   ],
   "source": [
    "data.show()"
   ]
  },
  {
   "cell_type": "markdown",
   "id": "70ee7a08",
   "metadata": {},
   "source": [
    "2.  Create a new DataFrame named `electronics_sales` that contains only the rows where the category is \"Electronics.\""
   ]
  },
  {
   "cell_type": "code",
   "execution_count": 15,
   "id": "a8b7316f",
   "metadata": {},
   "outputs": [],
   "source": [
    "electronics_sales = data.filter(col(\"Category\")==\"Electronics\")"
   ]
  },
  {
   "cell_type": "code",
   "execution_count": 16,
   "id": "48bc4dab",
   "metadata": {},
   "outputs": [
    {
     "name": "stdout",
     "output_type": "stream",
     "text": [
      "+---------+-----------+-----------+------------+------------+----------+\n",
      "|productID|ProductName|   Category|QuantitySold|PricePerUnit|TotalSales|\n",
      "+---------+-----------+-----------+------------+------------+----------+\n",
      "|        1|  Product_A|Electronics|         100|         260|     26000|\n",
      "+---------+-----------+-----------+------------+------------+----------+\n",
      "\n"
     ]
    }
   ],
   "source": [
    "electronics_sales.show()"
   ]
  },
  {
   "cell_type": "markdown",
   "id": "0f2276c6",
   "metadata": {},
   "source": [
    "3.   Sort the `sales_data` DataFrame in descending order based on the `TotalSales` column."
   ]
  },
  {
   "cell_type": "code",
   "execution_count": 17,
   "id": "e8b78cb7",
   "metadata": {},
   "outputs": [],
   "source": [
    "data = data.orderBy(col(\"TotalSales\").desc())"
   ]
  },
  {
   "cell_type": "code",
   "execution_count": 18,
   "id": "228e6763",
   "metadata": {},
   "outputs": [
    {
     "name": "stdout",
     "output_type": "stream",
     "text": [
      "+---------+-----------+---------------+------------+------------+----------+\n",
      "|productID|ProductName|       Category|QuantitySold|PricePerUnit|TotalSales|\n",
      "+---------+-----------+---------------+------------+------------+----------+\n",
      "|        1|  Product_A|    Electronics|         100|         260|     26000|\n",
      "|        2|  Product_B|       Clothing|         123|         200|     24600|\n",
      "|        3|  Product_C|Home Appliances|          50|          30|      1500|\n",
      "|        4|  Product_D|     Stationary|          80|          10|       800|\n",
      "+---------+-----------+---------------+------------+------------+----------+\n",
      "\n"
     ]
    }
   ],
   "source": [
    "data.show()"
   ]
  },
  {
   "cell_type": "code",
   "execution_count": null,
   "id": "677852dd",
   "metadata": {},
   "outputs": [],
   "source": []
  }
 ],
 "metadata": {
  "kernelspec": {
   "display_name": "Python 3 (ipykernel)",
   "language": "python",
   "name": "python3"
  },
  "language_info": {
   "codemirror_mode": {
    "name": "ipython",
    "version": 3
   },
   "file_extension": ".py",
   "mimetype": "text/x-python",
   "name": "python",
   "nbconvert_exporter": "python",
   "pygments_lexer": "ipython3",
   "version": "3.10.9"
  }
 },
 "nbformat": 4,
 "nbformat_minor": 5
}
